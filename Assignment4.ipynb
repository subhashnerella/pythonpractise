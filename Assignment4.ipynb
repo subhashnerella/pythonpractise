{
 "metadata": {
  "name": "",
<<<<<<< HEAD
  "signature": "sha256:15a57e635a52b04aad5321f23a6ace156c7ae98120d6ba0ec125e2c4d1fef0ff"
=======
  "signature": "sha256:1afba412d15120977ff28e7b1bdf87884aae6ce712d7e7a93d36432cc9d59bb6"
>>>>>>> 2be4aa0c3911f857fa6b08a5fca6e193a1bb4bc1
 },
 "nbformat": 3,
 "nbformat_minor": 0,
 "worksheets": [
  {
   "cells": [
    {
     "cell_type": "code",
     "collapsed": false,
     "input": [
      "import numpy\n",
      "import math\n",
      "from matplotlib import pyplot \n",
      "from scipy import integrate"
     ],
     "language": "python",
     "metadata": {},
     "outputs": [],
     "prompt_number": 1
    },
    {
     "cell_type": "code",
     "collapsed": false,
     "input": [
      "with open ('./resources/MainFoil_N=50.csv') as file_name:\n",
      "    p, q = numpy.loadtxt(file_name, dtype=float, delimiter=',', unpack=True)\n",
      "with open ('./resources/FlapFoil_N=50.csv') as file_name:\n",
      "    u, v = numpy.loadtxt(file_name, dtype=float, delimiter=',', unpack=True)\n",
      "    "
     ],
     "language": "python",
     "metadata": {},
     "outputs": [],
     "prompt_number": 2
    },
    {
     "cell_type": "code",
     "collapsed": false,
     "input": [
      "%matplotlib inline\n",
      "val_x, val_y = 0.1, 0.2\n",
      "x_min, x_max = p.min(), u.max()\n",
      "y_min, y_max = v.min(), q.max()\n",
      "x_start, x_end = x_min-val_x*(x_max-x_min), x_max+val_x*(x_max-x_min)\n",
      "y_start, y_end = y_min-val_y*(y_max-y_min), y_max+val_y*(y_max-y_min)\n",
      "\n",
      "size = 10\n",
      "pyplot.figure(figsize=(size, (y_end-y_start)/(x_end-x_start)*size))\n",
      "pyplot.grid(True)\n",
      "pyplot.xlabel('x', fontsize=16)\n",
      "pyplot.ylabel('y', fontsize=16)\n",
      "pyplot.xlim(x_start, x_end)\n",
      "pyplot.ylim(y_start, y_end)\n",
      "pyplot.plot(p, q, color='k', linestyle='-', linewidth=2);\n",
      "pyplot.plot(u, v, color='k', linestyle='-', linewidth=2);"
     ],
     "language": "python",
     "metadata": {},
     "outputs": [
      {
       "metadata": {},
       "output_type": "display_data",
       "png": "iVBORw0KGgoAAAANSUhEUgAAAnEAAAC8CAYAAAAXZPh7AAAABHNCSVQICAgIfAhkiAAAAAlwSFlz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\nQlifpHcALgAAAABJRU5ErkJggg==\n",
       "text": [
<<<<<<< HEAD
        "<matplotlib.figure.Figure at 0x67d4150>"
=======
        "<matplotlib.figure.Figure at 0xa267cc0>"
>>>>>>> 2be4aa0c3911f857fa6b08a5fca6e193a1bb4bc1
       ]
      }
     ],
     "prompt_number": 3
    },
    {
     "cell_type": "code",
     "collapsed": false,
     "input": [
      "class Panel:\n",
      "    \"\"\"Contains information related to a panel.\"\"\"\n",
      "    def __init__(self, xa, ya, xb, yb):\n",
      "        \"\"\"Creates a panel.\n",
      "        \n",
      "        Arguments\n",
      "        ---------\n",
      "        xa, ya -- Cartesian coordinates of the first end-point.\n",
      "        xb, yb -- Cartesian coordinates of the second end-point.\n",
      "        \"\"\"\n",
      "        self.xa, self.ya = xa, ya\n",
      "        self.xb, self.yb = xb, yb\n",
      "        \n",
      "        self.xc, self.yc = (xa+xb)/2, (ya+yb)/2       # control-point (center-point)\n",
      "        self.length = math.sqrt((xb-xa)**2+(yb-ya)**2)     # length of the panel\n",
      "        \n",
      "        # orientation of the panel (angle between x-axis and panel's normal)\n",
      "        if xb-xa <= 0.:\n",
      "            self.beta = math.acos((yb-ya)/self.length)\n",
      "        elif xb-xa > 0.:\n",
      "            self.beta = math.pi + math.acos(-(yb-ya)/self.length)\n",
      "        \n",
      "        # location of the panel\n",
      "        if self.beta <= math.pi:\n",
      "            self.loc = 'upper'\n",
      "        else:\n",
      "            self.loc = 'lower'\n",
      "        \n",
      "        self.sigma = 0.                             # source strength\n",
      "        self.vt = 0.                                # tangential velocity\n",
      "        self.cp = 0.                                # pressure coefficient"
     ],
     "language": "python",
     "metadata": {},
     "outputs": [],
     "prompt_number": 4
    },
    {
     "cell_type": "code",
     "collapsed": false,
     "input": [
      "N_panels = 50\n",
      "panels = numpy.empty(N_panels, dtype=object)\n",
      "for i in range(N_panels):\n",
      "    panels[i] = Panel(p[i], q[i], p[i+1], q[i+1])\n",
      "\n",
      "flappanels = numpy.empty(N_panels, dtype=object)\n",
      "for i in range(N_panels):\n",
      "    flappanels[i] = Panel(u[i], v[i], u[i+1], v[i+1])\n",
      "    "
     ],
     "language": "python",
     "metadata": {},
     "outputs": [],
     "prompt_number": 5
<<<<<<< HEAD
    },
    {
     "cell_type": "code",
     "collapsed": false,
     "input": [
      "allpanes = numpy.append(panels,flappanels)"
     ],
     "language": "python",
     "metadata": {},
     "outputs": [],
     "prompt_number": 6
    },
    {
     "cell_type": "code",
     "collapsed": false,
     "input": [
      "numpy.shape(allpanes)"
     ],
     "language": "python",
     "metadata": {},
     "outputs": [
      {
       "metadata": {},
       "output_type": "pyout",
       "prompt_number": 7,
       "text": [
        "(100,)"
       ]
      }
     ],
     "prompt_number": 7
=======
>>>>>>> 2be4aa0c3911f857fa6b08a5fca6e193a1bb4bc1
    },
    {
     "cell_type": "code",
     "collapsed": false,
     "input": [
      "val_x, val_y = 0.1, 0.2\n",
      "x_min, x_max = min(panel.xa for panel in panels), max(panel.xa for panel in flappanels)\n",
      "y_min, y_max = min(panel.ya for panel in flappanels), max(panel.ya for panel in panels)\n",
      "x_start, x_end = x_min-val_x*(x_max-x_min), x_max+val_x*(x_max-x_min)\n",
      "y_start, y_end = y_min-val_y*(y_max-y_min), y_max+val_y*(y_max-y_min)\n",
      "\n",
      "size = 10\n",
      "pyplot.figure(figsize=(size, (y_end-y_start)/(x_end-x_start)*size))\n",
      "pyplot.grid(True)\n",
      "pyplot.xlabel('x', fontsize=16)\n",
      "pyplot.ylabel('y', fontsize=16)\n",
      "pyplot.xlim(x_start, x_end)\n",
      "pyplot.ylim(y_start, y_end)\n",
      "pyplot.plot(p, q, color='k', linestyle='-', linewidth=2)\n",
      "pyplot.plot(u, v, color='k', linestyle='-', linewidth=2)\n",
      "pyplot.plot(numpy.append([panel.xa for panel in panels], panels[0].xa), \n",
      "         numpy.append([panel.ya for panel in panels], panels[0].ya), \n",
      "         linestyle='-', linewidth=1, marker='o', markersize=6, color='#CD2305')\n",
      "pyplot.plot(numpy.append([panel.xa for panel in flappanels], flappanels[0].xa), \n",
      "         numpy.append([panel.ya for panel in flappanels], flappanels[0].ya), \n",
      "         linestyle='-', linewidth=1, marker='o', markersize=6, color='#CD2305');"
     ],
     "language": "python",
     "metadata": {},
     "outputs": [
      {
       "metadata": {},
       "output_type": "display_data",
       "png": "iVBORw0KGgoAAAANSUhEUgAAAnEAAAC8CAYAAAAXZPh7AAAABHNCSVQICAgIfAhkiAAAAAlwSFlz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\nZOJclhgN1NkAAAAASUVORK5CYII=\n",
       "text": [
<<<<<<< HEAD
        "<matplotlib.figure.Figure at 0x6826e70>"
=======
        "<matplotlib.figure.Figure at 0xa2f47b8>"
       ]
      }
     ],
     "prompt_number": 6
    },
    {
     "cell_type": "code",
     "collapsed": false,
     "input": [
      "allpanels = numpy.concatenate((panels,flappanels))"
     ],
     "language": "python",
     "metadata": {},
     "outputs": [],
     "prompt_number": 7
    },
    {
     "cell_type": "code",
     "collapsed": false,
     "input": [
      "\n",
      "numpy.shape(allpanels)"
     ],
     "language": "python",
     "metadata": {},
     "outputs": [
      {
       "metadata": {},
       "output_type": "pyout",
       "prompt_number": 8,
       "text": [
        "(100L,)"
>>>>>>> 2be4aa0c3911f857fa6b08a5fca6e193a1bb4bc1
       ]
      }
     ],
     "prompt_number": 8
    },
    {
     "cell_type": "code",
     "collapsed": false,
     "input": [
      "class Freestream:\n",
      "    \"\"\"Freestream conditions.\"\"\"\n",
      "    def __init__(self, u_inf=1.0, alpha=0.0):\n",
      "        \"\"\"Sets the freestream conditions.\n",
      "        \n",
      "        Arguments\n",
      "        ---------\n",
      "        u_inf -- Farfield speed (default 1.0).\n",
      "        alpha -- Angle of attack in degrees (default 0.0).\n",
      "        \"\"\"\n",
      "        self.u_inf = u_inf\n",
      "        self.alpha = alpha*math.pi/180          # degrees --> radians"
     ],
     "language": "python",
     "metadata": {},
     "outputs": [],
     "prompt_number": 9
    },
    {
     "cell_type": "code",
     "collapsed": false,
     "input": [
      "# defines and creates the object freestream\n",
      "u_inf = 1.0                                # freestream spee\n",
      "alpha = 0.0                                # angle of attack (in degrees)\n",
      "freestream = Freestream(u_inf, alpha)      # instantiation of the object freestream"
     ],
     "language": "python",
     "metadata": {},
     "outputs": [],
     "prompt_number": 10
    },
    {
     "cell_type": "code",
     "collapsed": false,
     "input": [
      "def integral(x, y, panel, dxdz, dydz):\n",
      "    \"\"\"Evaluates the contribution of a panel at one point.\n",
      "    \n",
      "    Arguments\n",
      "    ---------\n",
      "    x, y -- Cartesian coordinates of the point.\n",
      "    panel -- panel which contribution is evaluated.\n",
      "    dxdz -- derivative of x in the z-direction.\n",
      "    dydz -- derivative of y in the z-direction.\n",
      "    \n",
      "    Returns\n",
      "    -------\n",
      "    Integral over the panel of the influence at one point.\n",
      "    \"\"\"\n",
      "    def func(s):\n",
      "        return ( ((x - (panel.xa - math.sin(panel.beta)*s))*dxdz\n",
      "                  +(y - (panel.ya + math.cos(panel.beta)*s))*dydz)\n",
      "                / ((x - (panel.xa - math.sin(panel.beta)*s))**2\n",
      "                   +(y - (panel.ya + math.cos(panel.beta)*s))**2) )\n",
      "    return integrate.quad(lambda s:func(s), 0., panel.length)[0]"
     ],
     "language": "python",
     "metadata": {},
     "outputs": [],
     "prompt_number": 11
    },
    {
     "cell_type": "code",
     "collapsed": false,
     "input": [
      "def build_matrix(panels):\n",
      "    \"\"\"Builds the source matrix.\n",
      "    \n",
      "    Arguments\n",
      "    ---------\n",
      "    panels -- array of panels.\n",
      "    \n",
      "    Returns\n",
      "    -------\n",
      "    A -- NxN matrix (N is the number of panels).\n",
      "    \"\"\"\n",
      "    N = len(panels)\n",
      "    A = numpy.empty((N, N), dtype=float)\n",
      "    numpy.fill_diagonal(A, 0.5)\n",
      "    \n",
      "    for i, p_i in enumerate(panels):\n",
      "        for j, p_j in enumerate(panels):\n",
      "            if i != j:\n",
      "                A[i,j] = 0.5/math.pi*integral(p_i.xc, p_i.yc, p_j, math.cos(p_i.beta), math.sin(p_i.beta))\n",
      "    \n",
      "    return A"
     ],
     "language": "python",
     "metadata": {},
     "outputs": [],
     "prompt_number": 12
    },
    {
     "cell_type": "code",
     "collapsed": false,
     "input": [
      "A = build_matrix(allpanels)         "
     ],
     "language": "python",
     "metadata": {},
     "outputs": [],
     "prompt_number": 13
    },
    {
     "cell_type": "code",
     "collapsed": false,
     "input": [
      "def build_rhs(panels, freestream):\n",
      "    \"\"\"Builds the RHS of the linear system.\n",
      "    \n",
      "    Arguments\n",
      "    ---------\n",
      "    panels -- array of panels.\n",
      "    freestream -- farfield conditions.\n",
      "    \n",
      "    Returns\n",
      "    -------\n",
      "    b -- 1D array ((N+1)x1, N is the number of panels).\n",
      "    \"\"\"\n",
      "    b = numpy.empty(len(panels), dtype=float)\n",
      "    \n",
      "    for i, panel in enumerate(panels):\n",
      "        b[i] = -freestream.u_inf * math.cos(freestream.alpha - panel.beta)\n",
      "    \n",
      "    return b"
     ],
     "language": "python",
     "metadata": {},
     "outputs": [],
<<<<<<< HEAD
     "prompt_number": 13
    },
    {
     "cell_type": "code",
     "collapsed": false,
     "input": [
      "A = numpy.empty((allpanes.size, allpanes.size), dtype=float)\n",
      "numpy.fill_diagonal(A, 0.5)\n",
      "    \n",
      "for i, p_i in enumerate(allpanes):\n",
      "    for j, p_j in enumerate(allpanes):\n",
      "        if i != j:\n",
      "            A[i,j] = 0.5/math.pi*integral(p_i.xc, p_i.yc, \n",
      "                                            p_j, \n",
      "                                            math.cos(p_i.beta), math.sin(p_i.beta))\n",
      "    "
     ],
     "language": "python",
     "metadata": {},
     "outputs": [],
     "prompt_number": 16
    },
    {
     "cell_type": "code",
     "collapsed": false,
     "input": [
      "numpy.shape(A)"
     ],
     "language": "python",
     "metadata": {},
     "outputs": [
      {
       "metadata": {},
       "output_type": "pyout",
       "prompt_number": 17,
       "text": [
        "(100, 100)"
       ]
      }
     ],
     "prompt_number": 17
    },
    {
     "cell_type": "code",
     "collapsed": false,
     "input": [
      " a = numpy.zeros(allpanes.size, dtype=float)\n",
      "    \n",
      "for i, p_i in enumerate(allpanes):\n",
      "    for j, p_j in enumerate(allpanes):\n",
      "        if i != j:\n",
      "            a[i] -= 0.5/math.pi*integral(p_i.xc, p_i.yc, \n",
      "                                            p_j, \n",
      "                                            math.sin(p_i.beta), -math.cos(p_i.beta))"
     ],
     "language": "python",
     "metadata": {},
     "outputs": [],
     "prompt_number": 19
    },
    {
     "cell_type": "code",
     "collapsed": false,
     "input": [
      "N = allpanes.size\n",
      "N_a = panels.size\n",
      "print N,N_a"
     ],
     "language": "python",
     "metadata": {},
     "outputs": [
      {
       "output_type": "stream",
       "stream": "stdout",
       "text": [
        "100 50\n"
       ]
      }
     ],
     "prompt_number": 23
    },
    {
     "cell_type": "code",
     "collapsed": false,
     "input": [
      "L = numpy.zeros(N+1, dtype=float)\n",
      "\n",
      " # contribution from the source sheet of the first panel on the last one of main foil\n",
      "L[0] = 0.5/math.pi*integral(panels[N_a-1].xc, panels[N_a-1].yc, panels[0], \n",
      "                          -math.sin(panels[N_a-1].beta), +math.cos(panels[N_a-1].beta))\n",
      "L[N_a-1] = 0.5/math.pi*integral(panels[0].xc, panels[0].yc, panels[N_a-1], \n",
      "                             -math.sin(panels[0].beta), +math.cos(panels[0].beta))\n",
      "for i, panel in enumerate(allpanes[1:-1]):\n",
      "        # contribution from the source sheet\n",
      "        if i!=N_a-1:\n",
      "            L[i+1] = 0.5/math.pi*(integral(panels[0].xc, panels[0].yc, panel, \n",
      "                               -math.sin(panels[0].beta), +math.cos(panels[0].beta))\n",
      "                                 + integral(panels[N_a-1].xc, panels[N_a-1].yc, panel, \n",
      "                               -math.sin(panels[N_a-1].beta), +math.cos(panels[N_a-1].beta)) )\n"
     ],
     "language": "python",
     "metadata": {},
     "outputs": [],
     "prompt_number": 30
=======
     "prompt_number": 14
>>>>>>> 2be4aa0c3911f857fa6b08a5fca6e193a1bb4bc1
    },
    {
     "cell_type": "code",
     "collapsed": false,
     "input": [
      "b = build_rhs(allpanels, freestream)   "
     ],
     "language": "python",
     "metadata": {},
     "outputs": [],
     "prompt_number": 15
    },
    {
     "cell_type": "code",
     "collapsed": false,
     "input": [
      "# solves the linear system\n",
      "sigma = numpy.linalg.solve(A, b)\n",
      "\n",
      "for i, panel in enumerate(allpanels):\n",
      "    panel.sigma = sigma[i]"
     ],
     "language": "python",
     "metadata": {},
     "outputs": [],
     "prompt_number": 16
    },
    {
     "cell_type": "code",
     "collapsed": false,
     "input": [
      "def get_velocity_field(panels, freestream, X, Y):\n",
      "    \"\"\"Returns the velocity field.\n",
      "    \n",
      "    Arguments\n",
      "    ---------\n",
      "    panels -- array of panels.\n",
      "    freestream -- farfield conditions.\n",
      "    X, Y -- mesh grid.\n",
      "    \"\"\"\n",
      "    Nx, Ny = X.shape\n",
      "    u, v = numpy.empty((Nx, Ny), dtype=float), numpy.empty((Nx, Ny), dtype=float)\n",
      "    \n",
      "    for i in xrange(Nx):\n",
      "        for j in xrange(Ny):\n",
      "            u[i,j] = freestream.u_inf*math.cos(freestream.alpha)\\\n",
      "                     + 0.5/math.pi*sum([p.sigma*integral(X[i,j], Y[i,j], p, 1, 0) for p in panels])\n",
      "            v[i,j] = freestream.u_inf*math.sin(freestream.alpha)\\\n",
      "                     + 0.5/math.pi*sum([p.sigma*integral(X[i,j], Y[i,j], p, 0, 1) for p in panels])\n",
      "    \n",
      "    return u, v"
     ],
     "language": "python",
     "metadata": {},
     "outputs": [],
     "prompt_number": 17
    },
    {
     "cell_type": "code",
     "collapsed": false,
     "input": [
      "# defines a mesh grid\n",
      "Nx, Ny = 20, 20                  # number of points in the x and y directions\n",
      "val_x, val_y = 1.0, 2.0\n",
      "x_min, x_max = min( panel.xa for panel in allpanels ), max( panel.xa for panel in allpanels )\n",
      "y_min, y_max = min( panel.ya for panel in allpanels ), max( panel.ya for panel in allpanels )\n",
      "x_start, x_end = x_min-val_x*(x_max-x_min), x_max+val_x*(x_max-x_min)\n",
      "y_start, y_end = y_min-val_y*(y_max-y_min), y_max+val_y*(y_max-y_min)\n",
      "\n",
      "X, Y = numpy.meshgrid(numpy.linspace(x_start, x_end, Nx), numpy.linspace(y_start, y_end, Ny))\n",
      "\n",
      "# computes the velicity field on the mesh grid\n",
      "u, v = get_velocity_field(allpanels, freestream, X, Y)"
     ],
     "language": "python",
     "metadata": {},
<<<<<<< HEAD
     "outputs": []
=======
     "outputs": [],
     "prompt_number": 18
    },
    {
     "cell_type": "code",
     "collapsed": false,
     "input": [
      "# plots the velocity field\n",
      "size=10\n",
      "pyplot.figure(figsize=(size, (y_end-y_start)/(x_end-x_start)*size))\n",
      "pyplot.xlabel('x', fontsize=16)\n",
      "pyplot.ylabel('y', fontsize=16)\n",
      "pyplot.streamplot(X, Y, u, v, density=1, linewidth=1, arrowsize=1, arrowstyle='->')\n",
      "pyplot.fill([panel.xc for panel in allpanels], \n",
      "         [panel.yc for panel in allpanels], \n",
      "         color='k', linestyle='solid', linewidth=2, zorder=2)\n",
      "pyplot.xlim(x_start, x_end)\n",
      "pyplot.ylim(y_start, y_end)\n",
      "pyplot.title('Streamlines around a NACA 0012 airfoil, AoA = %.1f' % alpha);"
     ],
     "language": "python",
     "metadata": {},
     "outputs": [
      {
       "metadata": {},
       "output_type": "display_data",
       "png": "iVBORw0KGgoAAAANSUhEUgAAAmsAAAEHCAYAAADxkgFYAAAABHNCSVQICAgIfAhkiAAAAAlwSFlz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\nPQAAAABJRU5ErkJggg==\n",
       "text": [
        "<matplotlib.figure.Figure at 0xa5ffe80>"
       ]
      }
     ],
     "prompt_number": 20
>>>>>>> 2be4aa0c3911f857fa6b08a5fca6e193a1bb4bc1
    },
    {
     "cell_type": "code",
     "collapsed": false,
     "input": [],
     "language": "python",
     "metadata": {},
     "outputs": []
    }
   ],
   "metadata": {}
  }
 ]
}