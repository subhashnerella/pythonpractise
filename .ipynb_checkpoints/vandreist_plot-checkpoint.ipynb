{
 "cells": [
  {
   "cell_type": "code",
   "execution_count": 14,
   "metadata": {
    "collapsed": true
   },
   "outputs": [],
   "source": [
    "import math\n",
    "import numpy\n",
    "from matplotlib import pyplot\n",
    "from scipy import integrate"
   ]
  },
  {
   "cell_type": "code",
   "execution_count": 10,
   "metadata": {
    "collapsed": true
   },
   "outputs": [],
   "source": [
    "y = numpy.linspace(1,100,101)\n",
    "nx=10"
   ]
  },
  {
   "cell_type": "code",
   "execution_count": 24,
   "metadata": {
    "collapsed": true
   },
   "outputs": [],
   "source": [
    "def dreistvelocity(k):\n",
    "    def func(p):\n",
    "        return (2/(1+(1+4*0.4*0.4*p**2*(1-numpy.exp(-p/25))**2)**0.5))\n",
    "    result = 0\n",
    "    result = integrate.quad(lambda p: func(p), 1, k)[0]\n",
    "    return result"
   ]
  },
  {
   "cell_type": "code",
   "execution_count": null,
   "metadata": {
    "collapsed": true
   },
   "outputs": [],
   "source": [
    "def prandtlvelocity(k):\n",
    "    z=0\n",
    "    if k>11.6:\n",
    "        z=2.5*numpy.log(k)+5.5\n",
    "    else:\n",
    "        z=k\n",
    "    \n",
    "    return z"
   ]
  },
  {
   "cell_type": "code",
   "execution_count": 25,
   "metadata": {
    "collapsed": false
   },
   "outputs": [],
   "source": [
    "u = numpy.zeros(len(y))\n",
    "for i in range(len(y)):\n",
    "    u[i]=dreistvelocity(y[i])\n",
    "    v[i]=prandtlvelocity(y[i])"
   ]
  },
  {
   "cell_type": "code",
   "execution_count": 26,
   "metadata": {
    "collapsed": false
   },
   "outputs": [
    {
     "data": {
      "text/plain": [
       "<matplotlib.text.Text at 0x950c550>"
      ]
     },
     "execution_count": 26,
     "metadata": {},
     "output_type": "execute_result"
    },
    {
     "data": {
      "image/png": "[encoded data removed]",
      "text/plain": [
       "<matplotlib.figure.Figure at 0x8044b70>"
      ]
     },
     "metadata": {},
     "output_type": "display_data"
    }
   ],
   "source": [
    "%matplotlib inline\n",
    "pyplot.figure(figsize=(10, 6))\n",
    "pyplot.xlim(1,100)\n",
    "pyplot.grid(True)\n",
    "pyplot.plot(y,u,color='b',label='polynomial fit')\n",
    "pyplot.xscale('log')\n",
    "pyplot.legend(loc='best', prop={'size':14})\n",
    "pyplot.title('Polynomial of Order %s'%(nx), fontsize=16)"
   ]
  },
  {
   "cell_type": "code",
   "execution_count": null,
   "metadata": {
    "collapsed": true
   },
   "outputs": [],
   "source": []
  }
 ],
 "metadata": {
  "kernelspec": {
   "display_name": "Python 2",
   "language": "python",
   "name": "python2"
  },
  "language_info": {
   "codemirror_mode": {
    "name": "ipython",
    "version": 2
   },
   "file_extension": ".py",
   "mimetype": "text/x-python",
   "name": "python",
   "nbconvert_exporter": "python",
   "pygments_lexer": "ipython2",
   "version": "2.7.13"
  }
 },
 "nbformat": 4,
 "nbformat_minor": 2
}
