{
 "metadata": {
  "name": "",
  "signature": "sha256:65932e5107c71b575ae131472a9e3b2eab1c589859ebeb61702ccc79061a415e"
 },
 "nbformat": 3,
 "nbformat_minor": 0,
 "worksheets": [
  {
   "cells": [
    {
     "cell_type": "code",
     "collapsed": false,
     "input": [
      "import numpy\n",
      "import math\n",
      "from matplotlib import pyplot \n",
      "from scipy import integrate"
     ],
     "language": "python",
     "metadata": {},
     "outputs": [],
     "prompt_number": 1
    },
    {
     "cell_type": "code",
     "collapsed": false,
     "input": [
      "with open ('./resources/MainFoil_N=50.csv') as file_name:\n",
      "    p, q = numpy.loadtxt(file_name, dtype=float, delimiter=',', unpack=True)\n",
      "with open ('./resources/FlapFoil_N=50.csv') as file_name:\n",
      "    u, v = numpy.loadtxt(file_name, dtype=float, delimiter=',', unpack=True)\n",
      "    "
     ],
     "language": "python",
     "metadata": {},
     "outputs": [],
     "prompt_number": 2
    },
    {
     "cell_type": "code",
     "collapsed": false,
     "input": [
      "%matplotlib inline\n",
      "val_x, val_y = 0.1, 0.2\n",
      "x_min, x_max = p.min(), u.max()\n",
      "y_min, y_max = v.min(), q.max()\n",
      "x_start, x_end = x_min-val_x*(x_max-x_min), x_max+val_x*(x_max-x_min)\n",
      "y_start, y_end = y_min-val_y*(y_max-y_min), y_max+val_y*(y_max-y_min)\n",
      "\n",
      "size = 10\n",
      "pyplot.figure(figsize=(size, (y_end-y_start)/(x_end-x_start)*size))\n",
      "pyplot.grid(True)\n",
      "pyplot.xlabel('x', fontsize=16)\n",
      "pyplot.ylabel('y', fontsize=16)\n",
      "pyplot.xlim(x_start, x_end)\n",
      "pyplot.ylim(y_start, y_end)\n",
      "pyplot.plot(p, q, color='k', linestyle='-', linewidth=2);\n",
      "pyplot.plot(u, v, color='k', linestyle='-', linewidth=2);"
     ],
     "language": "python",
     "metadata": {},
     "outputs": [
      {
       "metadata": {},
       "output_type": "display_data",
       "png": "[encoded data removed]",
       "text": [
        "<matplotlib.figure.Figure at 0x67d4150>"
       ]
      }
     ],
     "prompt_number": 3
    },
    {
     "cell_type": "code",
     "collapsed": false,
     "input": [
      "class Panel:\n",
      "    \"\"\"Contains information related to a panel.\"\"\"\n",
      "    def __init__(self, xa, ya, xb, yb):\n",
      "        \"\"\"Creates a panel.\n",
      "        \n",
      "        Arguments\n",
      "        ---------\n",
      "        xa, ya -- Cartesian coordinates of the first end-point.\n",
      "        xb, yb -- Cartesian coordinates of the second end-point.\n",
      "        \"\"\"\n",
      "        self.xa, self.ya = xa, ya\n",
      "        self.xb, self.yb = xb, yb\n",
      "        \n",
      "        self.xc, self.yc = (xa+xb)/2, (ya+yb)/2       # control-point (center-point)\n",
      "        self.length = math.sqrt((xb-xa)**2+(yb-ya)**2)     # length of the panel\n",
      "        \n",
      "        # orientation of the panel (angle between x-axis and panel's normal)\n",
      "        if xb-xa <= 0.:\n",
      "            self.beta = math.acos((yb-ya)/self.length)\n",
      "        elif xb-xa > 0.:\n",
      "            self.beta = math.pi + math.acos(-(yb-ya)/self.length)\n",
      "        \n",
      "        # location of the panel\n",
      "        if self.beta <= math.pi:\n",
      "            self.loc = 'upper'\n",
      "        else:\n",
      "            self.loc = 'lower'\n",
      "        \n",
      "        self.sigma = 0.                             # source strength\n",
      "        self.vt = 0.                                # tangential velocity\n",
      "        self.cp = 0.                                # pressure coefficient"
     ],
     "language": "python",
     "metadata": {},
     "outputs": [],
     "prompt_number": 4
    },
    {
     "cell_type": "code",
     "collapsed": false,
     "input": [
      "N_panels = 50\n",
      "panels = numpy.empty(N_panels, dtype=object)\n",
      "for i in range(N_panels):\n",
      "    panels[i] = Panel(p[i], q[i], p[i+1], q[i+1])\n",
      "\n",
      "flappanels = numpy.empty(N_panels, dtype=object)\n",
      "for i in range(N_panels):\n",
      "    flappanels[i] = Panel(u[i], v[i], u[i+1], v[i+1])\n",
      "    "
     ],
     "language": "python",
     "metadata": {},
     "outputs": [],
     "prompt_number": 5
    },
    {
     "cell_type": "code",
     "collapsed": false,
     "input": [
      "allpanes = numpy.append(panels,flappanels)"
     ],
     "language": "python",
     "metadata": {},
     "outputs": [],
     "prompt_number": 6
    },
    {
     "cell_type": "code",
     "collapsed": false,
     "input": [
      "numpy.shape(allpanes)"
     ],
     "language": "python",
     "metadata": {},
     "outputs": [
      {
       "metadata": {},
       "output_type": "pyout",
       "prompt_number": 7,
       "text": [
        "(100,)"
       ]
      }
     ],
     "prompt_number": 7
    },
    {
     "cell_type": "code",
     "collapsed": false,
     "input": [
      "val_x, val_y = 0.1, 0.2\n",
      "x_min, x_max = min(panel.xa for panel in panels), max(panel.xa for panel in flappanels)\n",
      "y_min, y_max = min(panel.ya for panel in flappanels), max(panel.ya for panel in panels)\n",
      "x_start, x_end = x_min-val_x*(x_max-x_min), x_max+val_x*(x_max-x_min)\n",
      "y_start, y_end = y_min-val_y*(y_max-y_min), y_max+val_y*(y_max-y_min)\n",
      "\n",
      "size = 10\n",
      "pyplot.figure(figsize=(size, (y_end-y_start)/(x_end-x_start)*size))\n",
      "pyplot.grid(True)\n",
      "pyplot.xlabel('x', fontsize=16)\n",
      "pyplot.ylabel('y', fontsize=16)\n",
      "pyplot.xlim(x_start, x_end)\n",
      "pyplot.ylim(y_start, y_end)\n",
      "pyplot.plot(p, q, color='k', linestyle='-', linewidth=2)\n",
      "pyplot.plot(u, v, color='k', linestyle='-', linewidth=2)\n",
      "pyplot.plot(numpy.append([panel.xa for panel in panels], panels[0].xa), \n",
      "         numpy.append([panel.ya for panel in panels], panels[0].ya), \n",
      "         linestyle='-', linewidth=1, marker='o', markersize=6, color='#CD2305')\n",
      "pyplot.plot(numpy.append([panel.xa for panel in flappanels], flappanels[0].xa), \n",
      "         numpy.append([panel.ya for panel in flappanels], flappanels[0].ya), \n",
      "         linestyle='-', linewidth=1, marker='o', markersize=6, color='#CD2305');"
     ],
     "language": "python",
     "metadata": {},
     "outputs": [
      {
       "metadata": {},
       "output_type": "display_data",
       "png": "[encoded data removed]",
       "text": [
        "<matplotlib.figure.Figure at 0x6826e70>"
       ]
      }
     ],
     "prompt_number": 8
    },
    {
     "cell_type": "code",
     "collapsed": false,
     "input": [
      "class Freestream:\n",
      "    \"\"\"Freestream conditions.\"\"\"\n",
      "    def __init__(self, u_inf=1.0, alpha=0.0):\n",
      "        \"\"\"Sets the freestream conditions.\n",
      "        \n",
      "        Arguments\n",
      "        ---------\n",
      "        u_inf -- Farfield speed (default 1.0).\n",
      "        alpha -- Angle of attack in degrees (default 0.0).\n",
      "        \"\"\"\n",
      "        self.u_inf = u_inf\n",
      "        self.alpha = alpha*math.pi/180          # degrees --> radians"
     ],
     "language": "python",
     "metadata": {},
     "outputs": [],
     "prompt_number": 9
    },
    {
     "cell_type": "code",
     "collapsed": false,
     "input": [
      "# defines and creates the object freestream\n",
      "u_inf = 1.0                                # freestream spee\n",
      "alpha = 0.0                                # angle of attack (in degrees)\n",
      "freestream = Freestream(u_inf, alpha)      # instantiation of the object freestream"
     ],
     "language": "python",
     "metadata": {},
     "outputs": [],
     "prompt_number": 10
    },
    {
     "cell_type": "code",
     "collapsed": false,
     "input": [
      "def integral(x, y, panel, dxdz, dydz):\n",
      "    \"\"\"Evaluates the contribution of a panel at one point.\n",
      "    \n",
      "    Arguments\n",
      "    ---------\n",
      "    x, y -- Cartesian coordinates of the point.\n",
      "    panel -- panel which contribution is evaluated.\n",
      "    dxdz -- derivative of x in the z-direction.\n",
      "    dydz -- derivative of y in the z-direction.\n",
      "    \n",
      "    Returns\n",
      "    -------\n",
      "    Integral over the panel of the influence at one point.\n",
      "    \"\"\"\n",
      "    def func(s):\n",
      "        return ( ((x - (panel.xa - math.sin(panel.beta)*s))*dxdz \n",
      "                  + (y - (panel.ya + math.cos(panel.beta)*s))*dydz)\n",
      "                / ((x - (panel.xa - math.sin(panel.beta)*s))**2 \n",
      "                   + (y - (panel.ya + math.cos(panel.beta)*s))**2) )\n",
      "    return integrate.quad(lambda s:func(s), 0., panel.length)[0]"
     ],
     "language": "python",
     "metadata": {},
     "outputs": [],
     "prompt_number": 11
    },
    {
     "cell_type": "code",
     "collapsed": false,
     "input": [
      "def source_matrix(panels):\n",
      "    \"\"\"Builds the source matrix.\n",
      "    \n",
      "    Arguments\n",
      "    ---------\n",
      "    panels -- array of panels.\n",
      "    \n",
      "    Returns\n",
      "    -------\n",
      "    A -- NxN matrix (N is the number of panels).\n",
      "    \"\"\"\n",
      "    A = numpy.empty((panels.size, panels.size), dtype=float)\n",
      "    numpy.fill_diagonal(A, 0.5)\n",
      "    \n",
      "    for i, p_i in enumerate(panels):\n",
      "        for j, p_j in enumerate(panels):\n",
      "            if i != j:\n",
      "                A[i,j] = 0.5/math.pi*integral(p_i.xc, p_i.yc, \n",
      "                                              p_j, \n",
      "                                              math.cos(p_i.beta), math.sin(p_i.beta))\n",
      "    \n",
      "    return A"
     ],
     "language": "python",
     "metadata": {},
     "outputs": [],
     "prompt_number": 12
    },
    {
     "cell_type": "code",
     "collapsed": false,
     "input": [
      "def vortex_array(panels):\n",
      "    \"\"\"Builds the vortex array.\n",
      "    \n",
      "    Arguments\n",
      "    ---------\n",
      "    panels - array of panels.\n",
      "    \n",
      "    Returns\n",
      "    -------\n",
      "    a -- 1D array (Nx1, N is the number of panels).\n",
      "    \"\"\"\n",
      "    a = numpy.zeros(panels.size, dtype=float)\n",
      "    \n",
      "    for i, p_i in enumerate(panels):\n",
      "        for j, p_j in enumerate(panels):\n",
      "            if i != j:\n",
      "                a[i] -= 0.5/math.pi*integral(p_i.xc, p_i.yc, \n",
      "                                             p_j, \n",
      "                                             math.sin(p_i.beta), -math.cos(p_i.beta))\n",
      "    return a"
     ],
     "language": "python",
     "metadata": {},
     "outputs": [],
     "prompt_number": 13
    },
    {
     "cell_type": "code",
     "collapsed": false,
     "input": [
      "A = numpy.empty((allpanes.size, allpanes.size), dtype=float)\n",
      "numpy.fill_diagonal(A, 0.5)\n",
      "    \n",
      "for i, p_i in enumerate(allpanes):\n",
      "    for j, p_j in enumerate(allpanes):\n",
      "        if i != j:\n",
      "            A[i,j] = 0.5/math.pi*integral(p_i.xc, p_i.yc, \n",
      "                                            p_j, \n",
      "                                            math.cos(p_i.beta), math.sin(p_i.beta))\n",
      "    "
     ],
     "language": "python",
     "metadata": {},
     "outputs": [],
     "prompt_number": 16
    },
    {
     "cell_type": "code",
     "collapsed": false,
     "input": [
      "numpy.shape(A)"
     ],
     "language": "python",
     "metadata": {},
     "outputs": [
      {
       "metadata": {},
       "output_type": "pyout",
       "prompt_number": 17,
       "text": [
        "(100, 100)"
       ]
      }
     ],
     "prompt_number": 17
    },
    {
     "cell_type": "code",
     "collapsed": false,
     "input": [
      " a = numpy.zeros(allpanes.size, dtype=float)\n",
      "    \n",
      "for i, p_i in enumerate(allpanes):\n",
      "    for j, p_j in enumerate(allpanes):\n",
      "        if i != j:\n",
      "            a[i] -= 0.5/math.pi*integral(p_i.xc, p_i.yc, \n",
      "                                            p_j, \n",
      "                                            math.sin(p_i.beta), -math.cos(p_i.beta))"
     ],
     "language": "python",
     "metadata": {},
     "outputs": [],
     "prompt_number": 19
    },
    {
     "cell_type": "code",
     "collapsed": false,
     "input": [
      "N = allpanes.size\n",
      "N_a = panels.size\n",
      "print N,N_a"
     ],
     "language": "python",
     "metadata": {},
     "outputs": [
      {
       "output_type": "stream",
       "stream": "stdout",
       "text": [
        "100 50\n"
       ]
      }
     ],
     "prompt_number": 23
    },
    {
     "cell_type": "code",
     "collapsed": false,
     "input": [
      "A_K = numpy.zeros(N+1, dtype=float)\n",
      "\n",
      " # contribution from the source sheet of the first panel on the last one of main foil\n",
      "A_k[0] = 0.5/math.pi*integral(panels[N_a-1].xc, panels[N_a-1].yc, panels[0], \n",
      "                          -math.sin(panels[N_a-1].beta), +math.cos(panels[N_a-1].beta))\n",
      "A_k[N_a-1] = 0.5/math.pi*integral(panels[0].xc, panels[0].yc, panels[N_a-1], \n",
      "                             -math.sin(panels[0].beta), +math.cos(panels[0].beta))\n",
      "for i, panel in enumerate(allpanes[1:-1]):\n",
      "        # contribution from the source sheet\n",
      "        if i!=N_a-1:\n",
      "            A_k[i+1] = 0.5/math.pi*(integral(panels[0].xc, panels[0].yc, panel, \n",
      "                               -math.sin(panels[0].beta), +math.cos(panels[0].beta))\n",
      "                                 + integral(panels[N-1].xc, panels[N-1].yc, panel, \n",
      "                               -math.sin(panels[N-1].beta), +math.cos(panels[N-1].beta)) )\n"
     ],
     "language": "python",
     "metadata": {},
     "outputs": [
      {
       "ename": "NameError",
       "evalue": "name 'A_k' is not defined",
       "output_type": "pyerr",
       "traceback": [
        "\u001b[1;31m---------------------------------------------------------------------------\u001b[0m\n\u001b[1;31mNameError\u001b[0m                                 Traceback (most recent call last)",
        "\u001b[1;32m<ipython-input-26-f8afd66e5388>\u001b[0m in \u001b[0;36m<module>\u001b[1;34m()\u001b[0m\n\u001b[0;32m      3\u001b[0m  \u001b[1;31m# contribution from the source sheet of the first panel on the last one of main foil\u001b[0m\u001b[1;33m\u001b[0m\u001b[1;33m\u001b[0m\u001b[0m\n\u001b[0;32m      4\u001b[0m A_k[0] = 0.5/math.pi*integral(panels[N_a-1].xc, panels[N_a-1].yc, panels[0], \n\u001b[1;32m----> 5\u001b[1;33m                           -math.sin(panels[N_a-1].beta), +math.cos(panels[N_a-1].beta))\n\u001b[0m\u001b[0;32m      6\u001b[0m A_k[N_a-1] = 0.5/math.pi*integral(panels[0].xc, panels[0].yc, panels[N_a-1], \n\u001b[0;32m      7\u001b[0m                              -math.sin(panels[0].beta), +math.cos(panels[0].beta))\n",
        "\u001b[1;31mNameError\u001b[0m: name 'A_k' is not defined"
       ]
      }
     ],
     "prompt_number": 26
    },
    {
     "cell_type": "code",
     "collapsed": false,
     "input": [
      "def kutta_array(panels):\n",
      "    \"\"\"Builds the Kutta-condition array.\n",
      "    \n",
      "    Arguments\n",
      "    ---------\n",
      "    panels -- array of panels.\n",
      "    \n",
      "    Returns\n",
      "    -------\n",
      "    a -- 1D array (Nx1, N is the number of panels).\n",
      "    \"\"\"\n",
      "    N = panels.size\n",
      "    a = numpy.zeros(N+1, dtype=float)\n",
      "    # contribution from the source sheet of the first panel on the last one\n",
      "    a[0] = 0.5/math.pi*integral(panels[N-1].xc, panels[N-1].yc, panels[0], \n",
      "                           -math.sin(panels[N-1].beta), +math.cos(panels[N-1].beta))\n",
      "    # contribution from the source sheet of the last panel on the first one\n",
      "    a[N-1] = 0.5/math.pi*integral(panels[0].xc, panels[0].yc, panels[N-1], \n",
      "                             -math.sin(panels[0].beta), +math.cos(panels[0].beta))\n",
      "    # contribution from the vortex sheet of the first panel on the last one\n",
      "    a[N] -= 0.5/math.pi*integral(panels[-1].xc, panels[-1].yc, panels[0], \n",
      "                               +math.cos(panels[-1].beta), math.sin(panels[-1].beta))\n",
      "    # contribution from the vortex sheet of the last panel on the first one\n",
      "    a[N] -= 0.5/math.pi*integral(panels[0].xc, panels[0].yc, panels[-1], \n",
      "                               +math.cos(panels[0].beta), math.sin(panels[0].beta))\n",
      "    # contribution from the vortex sheet of the first panel on itself\n",
      "    a[N] -= 0.5\n",
      "    # contribution from the vortex sheet of the last panel on itself\n",
      "    a[N] -= 0.5\n",
      " \n",
      "    # contribution from the other panels on the first and last ones\n",
      "    for i, panel in enumerate(panels[1:-1]):\n",
      "        # contribution from the source sheet\n",
      "        a[i+1] = 0.5/math.pi*(integral(panels[0].xc, panels[0].yc, panel, \n",
      "                               -math.sin(panels[0].beta), +math.cos(panels[0].beta))\n",
      "                     + integral(panels[N-1].xc, panels[N-1].yc, panel, \n",
      "                               -math.sin(panels[N-1].beta), +math.cos(panels[N-1].beta)) )\n",
      "\n",
      "        # contribution from the vortex sheet\n",
      "        a[N] -= 0.5/math.pi*(integral(panels[0].xc, panels[0].yc, panel, \n",
      "                               +math.cos(panels[0].beta), math.sin(panels[0].beta))\n",
      "                             + integral(panels[-1].xc, panels[-1].yc, panel, \n",
      "                               +math.cos(panels[-1].beta), math.sin(panels[-1].beta)) )\n",
      "        \n",
      "    return a"
     ],
     "language": "python",
     "metadata": {},
     "outputs": []
    },
    {
     "cell_type": "code",
     "collapsed": false,
     "input": [],
     "language": "python",
     "metadata": {},
     "outputs": []
    }
   ],
   "metadata": {}
  }
 ]
}