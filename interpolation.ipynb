{
 "cells": [
  {
   "cell_type": "code",
   "execution_count": 2,
   "metadata": {
    "collapsed": true
   },
   "outputs": [],
   "source": [
    "import math\n",
    "import numpy\n",
    "from matplotlib import pyplot"
   ]
  },
  {
   "cell_type": "code",
   "execution_count": 4,
   "metadata": {
    "collapsed": false
   },
   "outputs": [
    {
     "name": "stdout",
     "output_type": "stream",
     "text": [
      "0.1\n"
     ]
    }
   ],
   "source": [
    "nx=10\n",
    "h=1.0/(nx)\n",
    "print h\n",
    "u = numpy.linspace(-5,5,nx+1,dtype =float)"
   ]
  },
  {
   "cell_type": "code",
   "execution_count": 9,
   "metadata": {
    "collapsed": false
   },
   "outputs": [],
   "source": [
    "f = numpy.zeros(nx+1,dtype=float)\n",
    "for i in range(len(u)):\n",
    "    f[i]=1/(1+u[i]**2)\n"
   ]
  },
  {
   "cell_type": "code",
   "execution_count": 10,
   "metadata": {
    "collapsed": true
   },
   "outputs": [],
   "source": [
    "def lagrangian(x,u):\n",
    "    l =numpy.ones(len(u),dtype=float)\n",
    "    for i in range(len(u)):\n",
    "        for j in range(len(u)):\n",
    "            if i!=j:\n",
    "                l[i]=l[i]*(x-u[j])/(u[i]-u[j])\n",
    "    #l[i]=l[i]\n",
    "    return l         "
   ]
  },
  {
   "cell_type": "code",
   "execution_count": 11,
   "metadata": {
    "collapsed": true
   },
   "outputs": [],
   "source": [
    "def polynomial(x,u,f):\n",
    "    l=lagrangian(x,u)\n",
    "    p=0\n",
    "    for j in range(len(f)):\n",
    "        p=p+l[j]*f[j]\n",
    "    \n",
    "    return p"
   ]
  },
  {
   "cell_type": "code",
   "execution_count": 12,
   "metadata": {
    "collapsed": false
   },
   "outputs": [],
   "source": [
    "x = numpy.linspace(-5,5,101)\n",
    "p = numpy.zeros(len(x))\n",
    "q = numpy.zeros(len(x))\n",
    "for i in range(len(x)):\n",
    "    p[i]=polynomial(x[i],u,f)\n",
    "    q[i]=1/(1+x[i]**2)"
   ]
  },
  {
   "cell_type": "code",
   "execution_count": 14,
   "metadata": {
    "collapsed": false
   },
   "outputs": [
    {
     "data": {
      "text/plain": [
       "<matplotlib.text.Text at 0x8584898>"
      ]
     },
     "execution_count": 14,
     "metadata": {},
     "output_type": "execute_result"
    },
    {
     "data": {
      "image/png": "[encoded data removed]",
      "text/plain": [
       "<matplotlib.figure.Figure at 0x7e05a20>"
      ]
     },
     "metadata": {},
     "output_type": "display_data"
    }
   ],
   "source": [
    "%matplotlib inline\n",
    "pyplot.figure(figsize=(10, 6))\n",
    "pyplot.xlim(-5,5)\n",
    "pyplot.ylim(-5,5)\n",
    "pyplot.grid(True)\n",
    "pyplot.plot(x,p,color='b',label='polynomial fit')\n",
    "pyplot.plot(x,q,color='r',label='1/(1+x^2)')\n",
    "pyplot.legend(loc='best', prop={'size':14})\n",
    "pyplot.title('Polynomial of Order %s'%(nx), fontsize=16)"
   ]
  },
  {
   "cell_type": "code",
   "execution_count": null,
   "metadata": {
    "collapsed": true
   },
   "outputs": [],
   "source": []
  }
 ],
 "metadata": {
  "kernelspec": {
   "display_name": "Python 2",
   "language": "python",
   "name": "python2"
  },
  "language_info": {
   "codemirror_mode": {
    "name": "ipython",
    "version": 2
   },
   "file_extension": ".py",
   "mimetype": "text/x-python",
   "name": "python",
   "nbconvert_exporter": "python",
   "pygments_lexer": "ipython2",
   "version": "2.7.13"
  }
 },
 "nbformat": 4,
 "nbformat_minor": 2
}
