{
 "cells": [
  {
   "cell_type": "code",
   "execution_count": 1,
   "metadata": {
    "collapsed": true
   },
   "outputs": [],
   "source": [
    "import numpy\n",
    "from matplotlib import pyplot\n",
    "from scipy.interpolate import CubicSpline"
   ]
  },
  {
   "cell_type": "code",
   "execution_count": 2,
   "metadata": {
    "collapsed": false
   },
   "outputs": [
    {
     "name": "stdout",
     "output_type": "stream",
     "text": [
      "[ 1.   1.   0.5  0.5  1. ]\n"
     ]
    }
   ],
   "source": [
    "x = numpy.array([0,1,2,2.5,3,4])\n",
    "y = numpy.array([1.4,0.6,1.0,0.65,0.6,1.0])\n",
    "h = numpy.zeros(len(x)-1)\n",
    "for i in range(len(x)-1):\n",
    "    h[i]= x[i+1]-x[i]\n",
    "    \n",
    "print h"
   ]
  },
  {
   "cell_type": "code",
   "execution_count": 3,
   "metadata": {
    "collapsed": false
   },
   "outputs": [],
   "source": [
    "R = numpy.zeros(len(x)-2) \n",
    "\n",
    "for i in range(len(R)+1):\n",
    "    if i>0:\n",
    "        R[i-1]=6*(((y[i+1]-y[i])/h[i])-((y[i]-y[i-1])/h[i-1]))\n"
   ]
  },
  {
   "cell_type": "code",
   "execution_count": 4,
   "metadata": {
    "collapsed": false
   },
   "outputs": [
    {
     "name": "stdout",
     "output_type": "stream",
     "text": [
      "[ 7.2 -6.6  3.6  3. ]\n"
     ]
    }
   ],
   "source": [
    "print R"
   ]
  },
  {
   "cell_type": "code",
   "execution_count": 5,
   "metadata": {
    "collapsed": false
   },
   "outputs": [],
   "source": [
    "A = numpy.zeros((4,4))"
   ]
  },
  {
   "cell_type": "code",
   "execution_count": 6,
   "metadata": {
    "collapsed": true
   },
   "outputs": [],
   "source": [
    "A[0,0]=6\n",
    "A[3,3]=6\n",
    "A[3,2]=-1.5\n",
    "A[1,:]=([1,3,0.5,0])\n",
    "A[2,:]=([0,0.5,2,0.5])"
   ]
  },
  {
   "cell_type": "code",
   "execution_count": 7,
   "metadata": {
    "collapsed": false
   },
   "outputs": [
    {
     "name": "stdout",
     "output_type": "stream",
     "text": [
      "[[ 6.   0.   0.   0. ]\n",
      " [ 1.   3.   0.5  0. ]\n",
      " [ 0.   0.5  2.   0.5]\n",
      " [ 0.   0.  -1.5  6. ]]\n"
     ]
    }
   ],
   "source": [
    "print A"
   ]
  },
  {
   "cell_type": "code",
   "execution_count": 8,
   "metadata": {
    "collapsed": true
   },
   "outputs": [],
   "source": [
    "variables = numpy.linalg.solve(A, R)"
   ]
  },
  {
   "cell_type": "code",
   "execution_count": 9,
   "metadata": {
    "collapsed": false
   },
   "outputs": [
    {
     "name": "stdout",
     "output_type": "stream",
     "text": [
      "[ 1.2        -2.97959184  2.27755102  1.06938776]\n"
     ]
    }
   ],
   "source": [
    "print variables"
   ]
  },
  {
   "cell_type": "code",
   "execution_count": 10,
   "metadata": {
    "collapsed": false
   },
   "outputs": [],
   "source": [
    "variables=numpy.insert(variables,0,5.37959184)"
   ]
  },
  {
   "cell_type": "code",
   "execution_count": 11,
   "metadata": {
    "collapsed": false
   },
   "outputs": [
    {
     "name": "stdout",
     "output_type": "stream",
     "text": [
      "[ 5.37959184  1.2        -2.97959184  2.27755102  1.06938776]\n"
     ]
    }
   ],
   "source": [
    "print variables"
   ]
  },
  {
   "cell_type": "code",
   "execution_count": 12,
   "metadata": {
    "collapsed": true
   },
   "outputs": [],
   "source": [
    "variables=numpy.append(variables,-1.34281)"
   ]
  },
  {
   "cell_type": "code",
   "execution_count": 13,
   "metadata": {
    "collapsed": false
   },
   "outputs": [
    {
     "name": "stdout",
     "output_type": "stream",
     "text": [
      "[ 5.37959184  1.2        -2.97959184  2.27755102  1.06938776 -1.34281   ]\n"
     ]
    }
   ],
   "source": [
    "print variables"
   ]
  },
  {
   "cell_type": "code",
   "execution_count": 16,
   "metadata": {
    "collapsed": false
   },
   "outputs": [],
   "source": [
    "d = y\n",
    "b = variables/2\n",
    "a = numpy.zeros(len(x))\n",
    "for i in range(len(a)-1):\n",
    "    a[i]=(variables[i+1]-variables[i])/(6*h[i])\n",
    "c = numpy.zeros(len(x))\n",
    "for i in range(len(c)-1):\n",
    "    c[i]=(d[i+1]-d[i])/(h[i])-(2*variables[i]+variables[i+1])*h[i]/6"
   ]
  },
  {
   "cell_type": "code",
   "execution_count": 17,
   "metadata": {
    "collapsed": false
   },
   "outputs": [
    {
     "name": "stdout",
     "output_type": "stream",
     "text": [
      "[-0.69659864 -0.69659864  1.75238095 -0.40272109 -0.40203296  0.        ]\n",
      "[ 2.68979592  0.6        -1.48979592  1.13877551  0.53469388 -0.671405  ]\n",
      "[-2.79319728  0.49659864 -0.39319728 -0.56870748  0.26733908  0.        ]\n",
      "[ 1.4   0.6   1.    0.65  0.6   1.  ]\n"
     ]
    }
   ],
   "source": [
    "print a\n",
    "print b\n",
    "print c\n",
    "print d"
   ]
  },
  {
   "cell_type": "code",
   "execution_count": 18,
   "metadata": {
    "collapsed": false
   },
   "outputs": [],
   "source": [
    "def polynomial(X,x,a,b,c,d):\n",
    "    p=0\n",
    "    if 0<=X<1:\n",
    "        i=0\n",
    "        p = d[i]+c[i]*(X-x[i])+b[i]*(X-x[i])**2+a[i]*(X-x[i])**3\n",
    "    if 1<=X<2:\n",
    "        i=1\n",
    "        p = d[i]+c[i]*(X-x[i])+b[i]*(X-x[i])**2+a[i]*(X-x[i])**3\n",
    "    if 2<=X<2.5:\n",
    "        i=2\n",
    "        p = d[i]+c[i]*(X-x[i])+b[i]*(X-x[i])**2+a[i]*(X-x[i])**3\n",
    "    if 2.5<=X<3:\n",
    "        i=3\n",
    "        p = d[i]+c[i]*(X-x[i])+b[i]*(X-x[i])**2+a[i]*(X-x[i])**3\n",
    "    if 3<=X<4:\n",
    "        i=4\n",
    "        p = d[i]+c[i]*(X-x[i])+b[i]*(X-x[i])**2+a[i]*(X-x[i])**3\n",
    "    if X==4:\n",
    "        p=1\n",
    "    \n",
    "    return p\n",
    "    \n"
   ]
  },
  {
   "cell_type": "code",
   "execution_count": 19,
   "metadata": {
    "collapsed": false
   },
   "outputs": [],
   "source": [
    "l = numpy.linspace(0,4,201)\n",
    "q = numpy.zeros(len(l))\n",
    "for i in range(len(l)):\n",
    "    q[i] = polynomial(l[i],x,a,b,c,d)\n",
    "    "
   ]
  },
  {
   "cell_type": "code",
   "execution_count": 23,
   "metadata": {
    "collapsed": false
   },
   "outputs": [
    {
     "data": {
      "text/plain": [
       "<matplotlib.text.Text at 0x9ccaf98>"
      ]
     },
     "execution_count": 23,
     "metadata": {},
     "output_type": "execute_result"
    },
    {
     "data": {
      "image/png": "[encoded data removed]",
      "text/plain": [
       "<matplotlib.figure.Figure at 0x801ef60>"
      ]
     },
     "metadata": {},
     "output_type": "display_data"
    }
   ],
   "source": [
    "%matplotlib inline\n",
    "\n",
    "\n",
    "pyplot.figure(figsize=(8, 6))\n",
    "pyplot.plot(x, y, 'o', label='data')\n",
    "pyplot.plot(x, y,color='b')\n",
    "pyplot.plot(l,q,color='r', label=\"Spline\")\n",
    "pyplot.xlim(0,4)\n",
    "pyplot.legend(loc='best', prop={'size':14})\n",
    "pyplot.title('cubic spline', fontsize=16)"
   ]
  },
  {
   "cell_type": "code",
   "execution_count": 20,
   "metadata": {
    "collapsed": false
   },
   "outputs": [
    {
     "data": {
      "text/plain": [
       "<matplotlib.text.Text at 0x7f56208>"
      ]
     },
     "execution_count": 20,
     "metadata": {},
     "output_type": "execute_result"
    },
    {
     "data": {
      "image/png": "[encoded data removed]",
      "text/plain": [
       "<matplotlib.figure.Figure at 0x7e81e10>"
      ]
     },
     "metadata": {},
     "output_type": "display_data"
    }
   ],
   "source": [
    "%matplotlib inline\n",
    "cs = CubicSpline(x, y)\n",
    "xs = numpy.linspace(0,4,201)\n",
    "pyplot.figure(figsize=(6.5, 4))\n",
    "pyplot.plot(x, y, 'o', label='data')\n",
    "pyplot.plot(x, y,color='b')\n",
    "pyplot.plot(xs, cs(xs),color='r', label=\"Spline\")\n",
    "pyplot.xlim(0,4)\n",
    "pyplot.legend(loc='best', prop={'size':14})\n",
    "pyplot.title('cubic spline', fontsize=16)"
   ]
  },
  {
   "cell_type": "code",
   "execution_count": null,
   "metadata": {
    "collapsed": true
   },
   "outputs": [],
   "source": []
  }
 ],
 "metadata": {
  "kernelspec": {
   "display_name": "Python 2",
   "language": "python",
   "name": "python2"
  },
  "language_info": {
   "codemirror_mode": {
    "name": "ipython",
    "version": 2
   },
   "file_extension": ".py",
   "mimetype": "text/x-python",
   "name": "python",
   "nbconvert_exporter": "python",
   "pygments_lexer": "ipython2",
   "version": "2.7.13"
  }
 },
 "nbformat": 4,
 "nbformat_minor": 2
}
